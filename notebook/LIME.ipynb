{
 "cells": [
  {
   "cell_type": "code",
   "execution_count": 2,
   "metadata": {},
   "outputs": [
    {
     "data": {
      "text/plain": [
       "(60000, 10000, torch.Size([1, 28, 28]), 5)"
      ]
     },
     "execution_count": 2,
     "metadata": {},
     "output_type": "execute_result"
    }
   ],
   "source": [
    "import sys \n",
    "sys.path.append(\"../\")\n",
    "from data import generate_mnist\n",
    "\n",
    "trainset, testset, class_labels = generate_mnist()\n",
    "len(trainset), len(testset), trainset[0][0].size(), trainset[0][1]"
   ]
  },
  {
   "cell_type": "code",
   "execution_count": 3,
   "metadata": {},
   "outputs": [
    {
     "data": {
      "text/plain": [
       "CNN(\n",
       "  (classifier): Linear(in_features=3136, out_features=10, bias=True)\n",
       "  (flatten): Flatten(start_dim=1, end_dim=-1)\n",
       "  (feature): Sequential(\n",
       "    (0): Conv2d(1, 16, kernel_size=(3, 3), stride=(1, 1), padding=(1, 1))\n",
       "    (1): ReLU()\n",
       "    (2): MaxPool2d(kernel_size=2, stride=2, padding=0, dilation=1, ceil_mode=False)\n",
       "    (3): Conv2d(16, 32, kernel_size=(3, 3), stride=(1, 1), padding=(1, 1))\n",
       "    (4): ReLU()\n",
       "    (5): MaxPool2d(kernel_size=2, stride=2, padding=0, dilation=1, ceil_mode=False)\n",
       "    (6): Conv2d(32, 64, kernel_size=(3, 3), stride=(1, 1), padding=(1, 1))\n",
       "  )\n",
       ")"
      ]
     },
     "execution_count": 3,
     "metadata": {},
     "output_type": "execute_result"
    }
   ],
   "source": [
    "import torch \n",
    "import torch.nn as nn \n",
    "\n",
    "class CNN(nn.Module):\n",
    "    def __init__(self):\n",
    "        super(CNN, self).__init__()\n",
    "        self.classifier = nn.Linear(3136, 10)\n",
    "        self.flatten = nn.Flatten()\n",
    "        self.feature = nn.Sequential(\n",
    "           nn.Conv2d(1,16, 3,1,1),\n",
    "           nn.ReLU(),\n",
    "           nn.MaxPool2d(2),\n",
    "           nn.Conv2d(16,32, 3,1,1),\n",
    "           nn.ReLU(),\n",
    "           nn.MaxPool2d(2),\n",
    "           nn.Conv2d(32,64, 3,1,1)\n",
    "        )\n",
    "\n",
    "    def forward(self, x):\n",
    "        x = self.feature(x)\n",
    "        x = self.flatten(x)\n",
    "        x = self.classifier(x) \n",
    "        return x \n",
    "\n",
    "complex_model = CNN()\n",
    "complex_model.cuda()"
   ]
  },
  {
   "cell_type": "code",
   "execution_count": 9,
   "metadata": {},
   "outputs": [
    {
     "name": "stdout",
     "output_type": "stream",
     "text": [
      "🚀 Epoch:0 | Loss(recon):2.2977 | ⭐️ Progress\n",
      "🚀 Epoch:1 | Loss(recon):0.1087 | ⭐️ Progress\n",
      "🚀 Epoch:2 | Loss(recon):0.0908 | ⭐️ Progress\n",
      "🚀 Epoch:3 | Loss(recon):0.1500 | ⭐️ Progress\n",
      "🚀 Epoch:4 | Loss(recon):0.0119 | ⭐️ Progress\n",
      "🚀 Epoch:5 | Loss(recon):0.1173 | ⭐️ Progress\n",
      "🚀 Epoch:6 | Loss(recon):0.0101 | ⭐️ Progress\n",
      "🚀 Epoch:7 | Loss(recon):0.1149 | ⭐️ Progress\n",
      "🚀 Epoch:8 | Loss(recon):0.0313 | ⭐️ Progress\n",
      "🚀 Epoch:9 | Loss(recon):0.0583 | ⭐️ Progress\n",
      "🚀 Epoch:10 | Loss(recon):0.0488 | ⭐️ Progress\n",
      "🚀 Epoch:11 | Loss(recon):0.0017 | ⭐️ Progress\n"
     ]
    }
   ],
   "source": [
    "from torch.utils.data import DataLoader\n",
    "\n",
    "train_loader = DataLoader(trainset, batch_size=32, shuffle=True)\n",
    "optimizer = torch.optim.Adam(complex_model.parameters(), lr=1e-4)\n",
    "criterion = nn.CrossEntropyLoss()\n",
    "epochs = 12 \n",
    "\n",
    "for epoch in range(epochs):\n",
    "    running_loss = 0\n",
    "    for i, (x,y) in enumerate(train_loader):\n",
    "        prediction = complex_model(x.cuda())\n",
    "        loss = criterion(prediction, y.cuda())\n",
    "        \n",
    "        optimizer.zero_grad()\n",
    "        loss.backward()\n",
    "        optimizer.step()\n",
    "        running_loss += loss.item() \n",
    "        \n",
    "    print(\"🚀 Epoch:{1} | Loss(recon):{0:6.4f} \".format(running_loss/(i+1), epoch))\n",
    "        \n"
   ]
  },
  {
   "cell_type": "markdown",
   "metadata": {},
   "source": [
    "## Train LIME "
   ]
  },
  {
   "cell_type": "code",
   "execution_count": 63,
   "metadata": {},
   "outputs": [
    {
     "data": {
      "text/plain": [
       "SmallCNN(\n",
       "  (classifier): Linear(in_features=16, out_features=10, bias=True)\n",
       "  (flatten): Flatten(start_dim=1, end_dim=-1)\n",
       "  (feature): Sequential(\n",
       "    (0): Conv2d(1, 16, kernel_size=(3, 3), stride=(3, 3), padding=(1, 1))\n",
       "    (1): ReLU()\n",
       "    (2): AdaptiveAvgPool2d(output_size=1)\n",
       "  )\n",
       ")"
      ]
     },
     "execution_count": 63,
     "metadata": {},
     "output_type": "execute_result"
    }
   ],
   "source": [
    "# === LIME =====\n",
    "\n",
    "class SmallCNN(nn.Module):\n",
    "    def __init__(self):\n",
    "        super(SmallCNN, self).__init__()\n",
    "        self.classifier = nn.Linear(16, 10)\n",
    "        self.flatten = nn.Flatten()\n",
    "        self.feature = nn.Sequential(\n",
    "           nn.Conv2d(1,16, 3,3,1),\n",
    "           nn.ReLU(),\n",
    "           nn.AdaptiveAvgPool2d(1)\n",
    "        )\n",
    "\n",
    "    def forward(self, x):\n",
    "        x = self.feature(x)\n",
    "        x = self.flatten(x)\n",
    "        x = self.classifier(x) \n",
    "        return x \n",
    "\n",
    "simple_model = SmallCNN()\n",
    "simple_model.cuda()"
   ]
  },
  {
   "cell_type": "code",
   "execution_count": 64,
   "metadata": {},
   "outputs": [
    {
     "data": {
      "image/png": "[encoded data removed]",
      "text/plain": [
       "<Figure size 288x288 with 1 Axes>"
      ]
     },
     "metadata": {
      "needs_background": "light"
     },
     "output_type": "display_data"
    },
    {
     "data": {
      "image/png": "[encoded data removed]",
      "text/plain": [
       "<Figure size 1152x288 with 8 Axes>"
      ]
     },
     "metadata": {
      "needs_background": "light"
     },
     "output_type": "display_data"
    }
   ],
   "source": [
    "local_x = trainset[0][0]\n",
    "local_y = None # predicted by the complex model\n",
    "\n",
    "\n",
    "def generate_epsilon_batch(x, batch_size=32, std=0.5):\n",
    "    batch = [] \n",
    "    for i in range(batch_size):\n",
    "        epsilon = torch.rand_like(x) * std\n",
    "        batch.append(x+epsilon)\n",
    "    return torch.stack(batch)\n",
    "\n",
    "\n",
    "import matplotlib.pyplot as plt \n",
    "std = 0.5\n",
    "plt.figure(figsize=(4,4))\n",
    "plt.imshow(local_x.permute(1,2,0))\n",
    "fig, axes = plt.subplots(1,8, figsize=(16,4))\n",
    "batch = generate_epsilon_batch(local_x, 32, std=std)\n",
    "for i in range(8):\n",
    "    axes[i].imshow(batch[i].permute(1,2,0))"
   ]
  },
  {
   "cell_type": "code",
   "execution_count": 72,
   "metadata": {},
   "outputs": [
    {
     "name": "stdout",
     "output_type": "stream",
     "text": [
      "🚀 Epoch:0 | Loss(recon):0.5161 \n",
      "🚀 Epoch:100 | Loss(recon):0.4490 \n",
      "🚀 Epoch:200 | Loss(recon):0.3939 \n",
      "🚀 Epoch:300 | Loss(recon):0.3479 \n",
      "🚀 Epoch:400 | Loss(recon):0.3098 \n",
      "🚀 Epoch:500 | Loss(recon):0.2781 \n",
      "🚀 Epoch:600 | Loss(recon):0.2517 \n",
      "🚀 Epoch:700 | Loss(recon):0.2294 \n",
      "🚀 Epoch:800 | Loss(recon):0.2103 \n",
      "🚀 Epoch:900 | Loss(recon):0.1939 \n",
      "🚀 Epoch:1000 | Loss(recon):0.1798 \n",
      "🚀 Epoch:1100 | Loss(recon):0.1675 \n",
      "🚀 Epoch:1200 | Loss(recon):0.1567 \n",
      "🚀 Epoch:1300 | Loss(recon):0.1472 \n",
      "🚀 Epoch:1400 | Loss(recon):0.1388 \n",
      "🚀 Epoch:1500 | Loss(recon):0.1314 \n",
      "🚀 Epoch:1600 | Loss(recon):0.1246 \n",
      "🚀 Epoch:1700 | Loss(recon):0.1186 \n",
      "🚀 Epoch:1800 | Loss(recon):0.1131 \n",
      "🚀 Epoch:1900 | Loss(recon):0.1082 \n"
     ]
    }
   ],
   "source": [
    "from torch.utils.data import DataLoader\n",
    "\n",
    "optimizer = torch.optim.Adam(simple_model.parameters(), lr=1e-4, weight_decay=0.01)  # Weight decay to penalty model complexity \n",
    "criterion = nn.CrossEntropyLoss()\n",
    "epochs = 2000\n",
    "\n",
    "complex_model.eval()\n",
    "running_loss = 0\n",
    "for epoch in range(epochs):\n",
    "    x = generate_epsilon_batch(local_x)\n",
    "    local_y = complex_model(x.cuda()).argmax(axis=-1)\n",
    "    prediction = simple_model(x.cuda())\n",
    "    loss = criterion(prediction, local_y.cuda())\n",
    "    \n",
    "    optimizer.zero_grad()\n",
    "    loss.backward()\n",
    "    optimizer.step()\n",
    "    running_loss += loss.item() \n",
    "    if epoch % 100 ==0:\n",
    "        print(\"🚀 Epoch:{1} | Loss(recon):{0:6.4f} \".format(running_loss/(epoch+1), epoch))\n",
    "        "
   ]
  },
  {
   "cell_type": "markdown",
   "metadata": {},
   "source": [
    "### Convolution Weights"
   ]
  },
  {
   "cell_type": "code",
   "execution_count": 66,
   "metadata": {},
   "outputs": [
    {
     "name": "stdout",
     "output_type": "stream",
     "text": [
      "Sequential(\n",
      "  (0): Conv2d(1, 16, kernel_size=(3, 3), stride=(3, 3), padding=(1, 1))\n",
      "  (1): ReLU()\n",
      "  (2): AdaptiveAvgPool2d(output_size=1)\n",
      ")\n"
     ]
    },
    {
     "data": {
      "image/png": "[encoded data removed]",
      "text/plain": [
       "<Figure size 1152x288 with 16 Axes>"
      ]
     },
     "metadata": {
      "needs_background": "light"
     },
     "output_type": "display_data"
    }
   ],
   "source": [
    "print(simple_model.feature)\n",
    "fig, axes = plt.subplots(2,8, figsize=(16, 4))\n",
    "for i in range(2):\n",
    "    for j in range(8):\n",
    "        filter = simple_model.feature[0].weight[i*8+j,0,:,:]\n",
    "        axes[i][j].imshow(filter.cpu().detach().numpy(), cmap=\"seismic\")\n",
    "        axes[i][j].set_title(f\"{filter.max().item():.2f} | {filter.min().item():.2f}\")\n",
    "plt.tight_layout()"
   ]
  },
  {
   "cell_type": "markdown",
   "metadata": {},
   "source": [
    "### Classifier weight"
   ]
  },
  {
   "cell_type": "code",
   "execution_count": 70,
   "metadata": {},
   "outputs": [
    {
     "data": {
      "text/plain": [
       "<matplotlib.image.AxesImage at 0x7efc512feeb0>"
      ]
     },
     "execution_count": 70,
     "metadata": {},
     "output_type": "execute_result"
    },
    {
     "data": {
      "image/png": "[encoded data removed]",
      "text/plain": [
       "<Figure size 1152x288 with 1 Axes>"
      ]
     },
     "metadata": {
      "needs_background": "light"
     },
     "output_type": "display_data"
    }
   ],
   "source": [
    "simple_model.classifier.weight.size()\n",
    "plt.figure(figsize=(16, 4))\n",
    "plt.imshow(simple_model.classifier.weight.cpu().detach().numpy(), cmap=\"seismic\")\n"
   ]
  },
  {
   "cell_type": "code",
   "execution_count": null,
   "metadata": {},
   "outputs": [],
   "source": []
  }
 ],
 "metadata": {
  "kernelspec": {
   "display_name": "Python 3.8.12 ('deeping')",
   "language": "python",
   "name": "python3"
  },
  "language_info": {
   "codemirror_mode": {
    "name": "ipython",
    "version": 3
   },
   "file_extension": ".py",
   "mimetype": "text/x-python",
   "name": "python",
   "nbconvert_exporter": "python",
   "pygments_lexer": "ipython3",
   "version": "3.8.12"
  },
  "orig_nbformat": 4,
  "vscode": {
   "interpreter": {
    "hash": "cbc4c7136b33e244a0926e55a8aa1e57f1c839903e331a380cefab98f3f0f979"
   }
  }
 },
 "nbformat": 4,
 "nbformat_minor": 2
}
