{
 "cells": [
  {
   "cell_type": "markdown",
   "metadata": {},
   "source": [
    "# Training Rule-Fit with IRIS dataset \n",
    "\n",
    "## 1. Training a Decision Tree"
   ]
  },
  {
   "cell_type": "code",
   "execution_count": 1,
   "metadata": {},
   "outputs": [],
   "source": [
    "from sklearn.datasets import load_iris\n",
    "from sklearn.tree import DecisionTreeClassifier\n",
    "from sklearn.tree import export_graphviz\n",
    "iris = load_iris()\n",
    "X = iris['data']\n",
    "Y = iris['target']\n",
    "decision_tree = DecisionTreeClassifier(random_state=0, max_depth=4)\n",
    "decision_tree = decision_tree.fit(X, Y)"
   ]
  },
  {
   "cell_type": "markdown",
   "metadata": {},
   "source": [
    "## 2. Extracting Rules"
   ]
  },
  {
   "cell_type": "code",
   "execution_count": 2,
   "metadata": {},
   "outputs": [],
   "source": [
    "from sklearn.tree import _tree\n",
    "import numpy as np\n",
    "# based on  https://stackoverflow.com/questions/20224526/how-to-extract-the-decision-rules-from-scikit-learn-decision-tree\n",
    "\n",
    "def get_rules(tree, feature_names, class_names):\n",
    "    tree_ = tree.tree_\n",
    "    feature_name = [\n",
    "        feature_names[i] if i != _tree.TREE_UNDEFINED else \"undefined!\"\n",
    "        for i in tree_.feature\n",
    "    ]\n",
    "    paths = []\n",
    "    path = []\n",
    "    \n",
    "    def recurse(node, path, paths):\n",
    "        \n",
    "        if tree_.feature[node] != _tree.TREE_UNDEFINED:\n",
    "            name = feature_name[node]\n",
    "            threshold = tree_.threshold[node]\n",
    "            p1, p2 = list(path), list(path)\n",
    "            p1 += [(name, \"<=\", threshold)]\n",
    "            recurse(tree_.children_left[node], p1, paths)\n",
    "            p2 += [(name, \">\", threshold)]\n",
    "            recurse(tree_.children_right[node], p2, paths)\n",
    "        else:\n",
    "            path += [(tree_.value[node], tree_.n_node_samples[node])]\n",
    "            paths += [path]\n",
    "            \n",
    "    recurse(0, path, paths)\n",
    "\n",
    "    # sort by samples count\n",
    "    samples_count = [p[-1][1] for p in paths]\n",
    "    ii = list(np.argsort(samples_count))\n",
    "    paths = [paths[i] for i in reversed(ii)]\n",
    "    \n",
    "    rules = []\n",
    "    for path in paths:\n",
    "        rule = {\"conditions\": [], \"response\":None, \"samples\":None, \"class\":None, \"prob\":None}\n",
    "        for p in path[:-1]:\n",
    "            rule['conditions'].append(p)\n",
    "        if class_names is None:\n",
    "            rule['response']= str(np.round(path[-1][0][0][0],3))\n",
    "        else:\n",
    "            classes = path[-1][0][0]\n",
    "            l = np.argmax(classes)\n",
    "            rule['class'] = class_names[l]\n",
    "            rule['prob'] = np.round(100.0*classes[l]/np.sum(classes),2)\n",
    "        rule['samples'] = path[-1][1]\n",
    "        rules += [rule]\n",
    "        \n",
    "    return rules"
   ]
  },
  {
   "cell_type": "code",
   "execution_count": 3,
   "metadata": {},
   "outputs": [
    {
     "data": {
      "text/plain": [
       "{'conditions': [('petal width (cm)', '<=', 0.800000011920929)],\n",
       " 'response': None,\n",
       " 'samples': 50,\n",
       " 'class': 'setosa',\n",
       " 'prob': 100.0}"
      ]
     },
     "execution_count": 3,
     "metadata": {},
     "output_type": "execute_result"
    }
   ],
   "source": [
    "rules = get_rules(decision_tree, iris['feature_names'], iris['target_names'])\n",
    "rules[0] "
   ]
  },
  {
   "cell_type": "markdown",
   "metadata": {},
   "source": [
    "## 3. Convert original feature to rule features"
   ]
  },
  {
   "cell_type": "code",
   "execution_count": 4,
   "metadata": {},
   "outputs": [
    {
     "data": {
      "text/plain": [
       "(150, 8)"
      ]
     },
     "execution_count": 4,
     "metadata": {},
     "output_type": "execute_result"
    }
   ],
   "source": [
    "def compute_rules(rules, single_x, feature_names):\n",
    "    name_to_index = {feature_names[i] : i for i in range(len(feature_names))}\n",
    "    r = np.zeros(shape=(len(rules),))\n",
    "    for i, rule in enumerate(rules):\n",
    "        agree = True \n",
    "        for rule_feature, direction, value in rule['conditions']:\n",
    "            if direction == \"<=\":\n",
    "                if not single_x[name_to_index[rule_feature]] <= value:\n",
    "                    agree=False \n",
    "                    break \n",
    "            elif direction == \">\":\n",
    "                if not single_x[name_to_index[rule_feature]] > value:\n",
    "                    agree=False \n",
    "                    break \n",
    "            else:\n",
    "                raise ValueError(\"Not supported direction\")\n",
    "        if agree:\n",
    "            r[i] = 1.0\n",
    "    return r\n",
    "\n",
    "\n",
    "Rule_X = []\n",
    "\n",
    "for single_x in X:\n",
    "    rule_x = compute_rules(rules, single_x, iris['feature_names'])\n",
    "    Rule_X.append(rule_x)\n",
    "Rule_X = np.stack(Rule_X)\n",
    "Rule_X.shape "
   ]
  },
  {
   "cell_type": "markdown",
   "metadata": {},
   "source": [
    "## 4. Training a Linear Classifier with regularization"
   ]
  },
  {
   "cell_type": "code",
   "execution_count": null,
   "metadata": {},
   "outputs": [],
   "source": [
    "import torch \n",
    "import torch.nn as nn \n",
    "from torch.utils.data import Dataset, DataLoader\n",
    "\n",
    "class RuleData(Dataset):\n",
    "    def __init__(self, origin_X, rule_X, targets):\n",
    "        self.origin_X  = torch.Tensor(origin_X).float()\n",
    "        self.rule_X = torch.Tensor(rule_X).float()\n",
    "        self.targets = torch.tensor(targets)\n",
    "\n",
    "        self.orgin_std = torch.std(self.origin_X, axis=0)\n",
    "        self.orgin_mean = torch.mean(self.origin_X, axis=0)\n",
    "    \n",
    "    def __getitem__(self, idx):\n",
    "        return (self.rule_X[idx], \n",
    "                (self.origin_X[idx] - self.orgin_mean)/self.orgin_std * 0.4, \n",
    "                self.targets[idx])\n",
    "    \n",
    "    def __len__(self):\n",
    "        return len(self.origin_X)\n",
    "\n",
    "class Model(nn.Module):\n",
    "    def __init__(self, rule_features, origin_features, out_features):\n",
    "        super().__init__()\n",
    "        self.rule_linear    = nn.Linear(rule_features,   out_features)\n",
    "        self.feature_linear = nn.Linear(origin_features, out_features)\n",
    "\n",
    "    def forward(self, rule, origin):\n",
    "        x1 = self.rule_linear(rule)\n",
    "        x2 = self.feature_linear(origin)\n",
    "        return x1 + x2\n",
    "    \n"
   ]
  },
  {
   "cell_type": "code",
   "execution_count": 6,
   "metadata": {},
   "outputs": [
    {
     "name": "stdout",
     "output_type": "stream",
     "text": [
      "🚀  0 : 13.8463\n",
      "🚀 20 : 7.1150\n",
      "🚀 40 : 4.5831\n",
      "🚀 60 : 3.3938\n",
      "🚀 80 : 2.7408\n"
     ]
    }
   ],
   "source": [
    "DEVICE = \"cuda:0\"\n",
    "# ==== Dataset ==== \n",
    "dataset = RuleData(X, Rule_X, Y)\n",
    "train_loader = DataLoader(dataset, batch_size=16, shuffle=True)\n",
    "\n",
    "# ==== Model and Optimizer ====\n",
    "model = Model(rule_features=Rule_X.shape[1], origin_features=X.shape[1], out_features=3).to(DEVICE)\n",
    "learning_rate = 1e-2\n",
    "alpha, beta = 0.01, 0.01\n",
    "rule_optimizer = torch.optim.SGD(model.rule_linear.parameters(), lr=learning_rate, weight_decay=alpha)\n",
    "feature_optimizer = torch.optim.SGD(model.feature_linear.parameters(), lr=learning_rate, weight_decay=beta)\n",
    "\n",
    "epochs = 100\n",
    "for epoch in range(epochs):\n",
    "    running_loss = 0 \n",
    "    for rule, feature, y in train_loader:\n",
    "        y_hat = model(rule.to(DEVICE), feature.to(DEVICE))\n",
    "\n",
    "        loss = torch.nn.CrossEntropyLoss()(y_hat, y.to(DEVICE))\n",
    "\n",
    "        rule_optimizer.zero_grad()\n",
    "        feature_optimizer.zero_grad()\n",
    "\n",
    "        loss.backward()\n",
    "\n",
    "        rule_optimizer.step()\n",
    "        feature_optimizer.step()\n",
    "\n",
    "        running_loss += loss.item()\n",
    "    if epoch % (epochs//5) ==0:\n",
    "        print(f\"🚀 {str(epoch):>2s} : {running_loss:.4f}\")"
   ]
  },
  {
   "cell_type": "markdown",
   "metadata": {},
   "source": [
    "## 5. Visualize Rule Importance"
   ]
  },
  {
   "cell_type": "code",
   "execution_count": 7,
   "metadata": {},
   "outputs": [
    {
     "data": {
      "image/png": "[encoded data removed]",
      "text/plain": [
       "<Figure size 720x576 with 2 Axes>"
      ]
     },
     "metadata": {},
     "output_type": "display_data"
    }
   ],
   "source": [
    "import matplotlib.pyplot as plt \n",
    "from mpl_toolkits.axes_grid1 import make_axes_locatable\n",
    "\n",
    "rule_weights = model.rule_linear.weight.data.clone().cpu().detach().numpy()\n",
    "\n",
    "fig, ax = plt.subplots(figsize=(10,8), facecolor=\"white\")\n",
    "divider = make_axes_locatable(ax)\n",
    "cax = divider.append_axes('right', size='7%', pad=\"5%\")\n",
    "im = ax.imshow(rule_weights, cmap=\"jet\" )\n",
    "cb = fig.colorbar(im, cax=cax, orientation='vertical')\n",
    "ax.set_xlabel(\"Rules\", fontsize=15)\n",
    "ax.set_ylabel(\"Class\", fontsize=15)\n",
    "ax.set_title(\"Rule-Fit\", fontsize=20)\n",
    "plt.show()"
   ]
  },
  {
   "cell_type": "code",
   "execution_count": 8,
   "metadata": {},
   "outputs": [
    {
     "name": "stdout",
     "output_type": "stream",
     "text": [
      "Rule 0 -->\n",
      "('petal width (cm)', '<=', 0.800000011920929)\n",
      "Rule 1 -->\n",
      "('petal width (cm)', '>', 0.800000011920929)\n",
      "('petal width (cm)', '<=', 1.75)\n",
      "('petal length (cm)', '<=', 4.950000047683716)\n",
      "('petal width (cm)', '<=', 1.6500000357627869)\n",
      "Rule 2 -->\n",
      "('petal width (cm)', '>', 0.800000011920929)\n",
      "('petal width (cm)', '>', 1.75)\n",
      "('petal length (cm)', '>', 4.8500001430511475)\n",
      "Rule 3 -->\n",
      "('petal width (cm)', '>', 0.800000011920929)\n",
      "('petal width (cm)', '<=', 1.75)\n",
      "('petal length (cm)', '>', 4.950000047683716)\n",
      "('petal width (cm)', '>', 1.550000011920929)\n",
      "Rule 4 -->\n",
      "('petal width (cm)', '>', 0.800000011920929)\n",
      "('petal width (cm)', '<=', 1.75)\n",
      "('petal length (cm)', '>', 4.950000047683716)\n",
      "('petal width (cm)', '<=', 1.550000011920929)\n",
      "Rule 5 -->\n",
      "('petal width (cm)', '>', 0.800000011920929)\n",
      "('petal width (cm)', '>', 1.75)\n",
      "('petal length (cm)', '<=', 4.8500001430511475)\n",
      "('sepal length (cm)', '>', 5.950000047683716)\n",
      "Rule 6 -->\n",
      "('petal width (cm)', '>', 0.800000011920929)\n",
      "('petal width (cm)', '>', 1.75)\n",
      "('petal length (cm)', '<=', 4.8500001430511475)\n",
      "('sepal length (cm)', '<=', 5.950000047683716)\n",
      "Rule 7 -->\n",
      "('petal width (cm)', '>', 0.800000011920929)\n",
      "('petal width (cm)', '<=', 1.75)\n",
      "('petal length (cm)', '<=', 4.950000047683716)\n",
      "('petal width (cm)', '>', 1.6500000357627869)\n"
     ]
    }
   ],
   "source": [
    "for i, rule in enumerate(rules):\n",
    "    print(f\"Rule {i} -->\")\n",
    "    for r in rule['conditions']:\n",
    "        print(r)"
   ]
  }
 ],
 "metadata": {
  "kernelspec": {
   "display_name": "Python 3.8.12 ('deeping')",
   "language": "python",
   "name": "python3"
  },
  "language_info": {
   "codemirror_mode": {
    "name": "ipython",
    "version": 3
   },
   "file_extension": ".py",
   "mimetype": "text/x-python",
   "name": "python",
   "nbconvert_exporter": "python",
   "pygments_lexer": "ipython3",
   "version": "3.8.12"
  },
  "orig_nbformat": 4,
  "vscode": {
   "interpreter": {
    "hash": "cbc4c7136b33e244a0926e55a8aa1e57f1c839903e331a380cefab98f3f0f979"
   }
  }
 },
 "nbformat": 4,
 "nbformat_minor": 2
}
