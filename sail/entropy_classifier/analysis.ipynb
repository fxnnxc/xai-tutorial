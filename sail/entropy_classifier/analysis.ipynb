{
 "cells": [
  {
   "attachments": {},
   "cell_type": "markdown",
   "metadata": {},
   "source": [
    "# Analysis "
   ]
  },
  {
   "cell_type": "code",
   "execution_count": null,
   "metadata": {},
   "outputs": [],
   "source": [
    "import os \n",
    "import matplotlib.pyplot as plt \n",
    "import seaborn as sns \n",
    "import pickle\n",
    "import torch \n",
    "import torchvision\n",
    "from omegaconf import OmegaConf\n",
    "sns.set_style(\"whitegrid\")\n",
    "save_path = \"results/seed-0\""
   ]
  },
  {
   "attachments": {},
   "cell_type": "markdown",
   "metadata": {},
   "source": [
    "# Step1 "
   ]
  },
  {
   "cell_type": "code",
   "execution_count": null,
   "metadata": {},
   "outputs": [],
   "source": [
    "CLS_ENT = pickle.load(open(f\"{save_path}/cls_entropy.pkl\", mode='rb'))\n",
    "SP_IDX  = pickle.load(open(f\"{save_path}/sample_index.pkl\", mode='rb'))\n",
    "flags = OmegaConf.load(f\"{save_path}/config.yaml\")\n",
    "\n",
    "train_dataset =  torchvision.datasets.MNIST(root=flags.data_path, train=True, transform=torchvision.transforms.ToTensor())"
   ]
  },
  {
   "cell_type": "code",
   "execution_count": null,
   "metadata": {},
   "outputs": [],
   "source": [
    "# CLS-wise entropy distribution\n",
    "sns.boxplot(CLS_ENT.numpy().T, palette='rainbow')"
   ]
  },
  {
   "cell_type": "code",
   "execution_count": null,
   "metadata": {},
   "outputs": [],
   "source": [
    "# CLS-wise MIN entropy samples\n",
    "sns.set_style(\"white\")\n",
    "fig, axes = plt.subplots(1, 10, figsize=(15, 1.5))\n",
    "axes = axes.flat #[Role]:???\n",
    "for cls in range(10):\n",
    "    population = CLS_ENT[cls]\n",
    "    v, index =  torch.sort(population, descending=False) # increasing  #[Role]:???\n",
    "    index = SP_IDX[cls][index[0].item()]\n",
    "    ax = next(axes) #[Role]:???\n",
    "    ax.imshow(train_dataset[index][0].squeeze(0))\n",
    "    ax.set_axis_off()\n",
    "    ax.set_title(cls, fontsize=15)"
   ]
  },
  {
   "cell_type": "code",
   "execution_count": null,
   "metadata": {},
   "outputs": [],
   "source": [
    "# CLS-wise MAX entropy samples\n",
    "sns.set_style(\"white\")\n",
    "fig, axes = plt.subplots(1, 10, figsize=(15, 1.5))\n",
    "axes = axes.flat\n",
    "for cls in range(10):\n",
    "    population = CLS_ENT[cls]\n",
    "    v, index =  torch.sort(population, descending=True) # increasing \n",
    "    index = SP_IDX[cls][index[0].item()]\n",
    "    ax = next(axes)\n",
    "    ax.imshow(train_dataset[index][0].squeeze(0))\n",
    "    ax.set_axis_off()\n",
    "    ax.set_title(cls, fontsize=15)"
   ]
  },
  {
   "attachments": {},
   "cell_type": "markdown",
   "metadata": {},
   "source": [
    "#  Step2 "
   ]
  },
  {
   "cell_type": "code",
   "execution_count": null,
   "metadata": {},
   "outputs": [],
   "source": [
    "Y = pickle.load(open(f\"{save_path}/Y.pkl\", mode='rb')).numpy()\n",
    "Y_HAT  = pickle.load(open(f\"{save_path}/Y_HAT.pkl\", mode='rb')).numpy()"
   ]
  },
  {
   "cell_type": "code",
   "execution_count": null,
   "metadata": {},
   "outputs": [],
   "source": [
    "sns.histplot([Y, Y_HAT], bins=10)\n",
    "plt.legend(['Original', 'Prediction'])"
   ]
  },
  {
   "cell_type": "code",
   "execution_count": null,
   "metadata": {},
   "outputs": [],
   "source": [
    "fig, axes = plt.subplots(2, 5, figsize=(10, 5))\n",
    "fig.suptitle(\"Y_HAT\", fontsize=20)\n",
    "axes = axes.flat\n",
    "for cls in range(10):\n",
    "    idx = (Y == cls) #[Role]:???\n",
    "    ax = next(axes)\n",
    "    g = sns.histplot(Y_HAT[idx], ax=ax, bins=10)\n",
    "    if cls !=0:\n",
    "        ax.set_ylabel(None)\n",
    "        ax.set_yticklabels([])\n",
    "        # ax.set_xticklabels([i for i in range(10)])\n",
    "    ax.set_xticks([i for i in range(10)]) \n",
    "    ax.set_ylim([0,1000]) #[Role]:???\n",
    "    acc = (Y_HAT[idx] == cls).sum() / idx.sum() \n",
    "    ax.set_title(f\"True Class [{cls}] \\n Acc:{acc:.2f}\")\n",
    "    g.patches[cls].set_facecolor('red')\n",
    "plt.tight_layout()"
   ]
  },
  {
   "cell_type": "code",
   "execution_count": null,
   "metadata": {},
   "outputs": [],
   "source": []
  }
 ],
 "metadata": {
  "kernelspec": {
   "display_name": "base",
   "language": "python",
   "name": "python3"
  },
  "language_info": {
   "codemirror_mode": {
    "name": "ipython",
    "version": 3
   },
   "file_extension": ".py",
   "mimetype": "text/x-python",
   "name": "python",
   "nbconvert_exporter": "python",
   "pygments_lexer": "ipython3",
   "version": "3.9.7"
  },
  "orig_nbformat": 4,
  "vscode": {
   "interpreter": {
    "hash": "728ed223cfa85ea1ef5dcc6c79a939ffd9902707d91f95b40f547e46903ca84f"
   }
  }
 },
 "nbformat": 4,
 "nbformat_minor": 2
}
